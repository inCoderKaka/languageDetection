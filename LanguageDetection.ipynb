{
 "cells": [
  {
   "cell_type": "code",
   "execution_count": 1,
   "metadata": {},
   "outputs": [],
   "source": [
    "import speech_recognition as sr\n",
    "r = sr.Recognizer()\n",
    "\n",
    "import glob\n",
    "\n",
    "import fasttext\n",
    "from pycountry import languages"
   ]
  },
  {
   "cell_type": "code",
   "execution_count": 2,
   "metadata": {},
   "outputs": [
    {
     "name": "stderr",
     "output_type": "stream",
     "text": [
      "Warning : `load_model` does not return WordVectorModel or SupervisedModel any more, but a `FastText` object which is very similar.\n"
     ]
    }
   ],
   "source": [
    "PRETRAINED_MODEL_PATH = 'lid.176.ftz'\n",
    "model = fasttext.load_model(PRETRAINED_MODEL_PATH)"
   ]
  },
  {
   "cell_type": "code",
   "execution_count": 3,
   "metadata": {},
   "outputs": [],
   "source": [
    "def audioToString(path):\n",
    "    audioFile = sr.AudioFile(path)\n",
    "    with audioFile as source:\n",
    "        audioData = r.record(source)\n",
    "    return r.recognize_google(audioData)"
   ]
  },
  {
   "cell_type": "code",
   "execution_count": 4,
   "metadata": {},
   "outputs": [],
   "source": [
    "def finalPrediction(path):\n",
    "    sentences = audioToString(path)\n",
    "    predictions = model.predict(sentences)\n",
    "    lang_name = languages.get(alpha_2=predictions[0][0][9:]).name\n",
    "    if lang_name != 'English':\n",
    "        lang_name = 'Hindi'\n",
    "    return lang_name"
   ]
  },
  {
   "cell_type": "code",
   "execution_count": 5,
   "metadata": {},
   "outputs": [
    {
     "data": {
      "text/plain": [
       "'English'"
      ]
     },
     "execution_count": 5,
     "metadata": {},
     "output_type": "execute_result"
    }
   ],
   "source": [
    "#For Single File :\n",
    "finalPrediction('C:\\\\Users\\\\kakar\\\\Documents\\\\DecibellCache\\\\New Test\\\\harvard.wav')"
   ]
  },
  {
   "cell_type": "code",
   "execution_count": 7,
   "metadata": {},
   "outputs": [
    {
     "name": "stdout",
     "output_type": "stream",
     "text": [
      "harvard.wav   -->\t English\n",
      "mummy English.wav   -->\t English\n",
      "mummy voice.wav   -->\t Hindi\n"
     ]
    }
   ],
   "source": [
    "#For multiple Files :\n",
    "files = glob.glob('C:\\\\Users\\\\kakar\\\\Documents\\\\DecibellCache\\\\New Test\\\\*.wav')\n",
    "for file in files:\n",
    "    print(file.split('\\\\')[-1],'  -->\\t',finalPrediction(file))"
   ]
  },
  {
   "cell_type": "code",
   "execution_count": null,
   "metadata": {},
   "outputs": [],
   "source": []
  }
 ],
 "metadata": {
  "kernelspec": {
   "display_name": "Python 3",
   "language": "python",
   "name": "python3"
  },
  "language_info": {
   "codemirror_mode": {
    "name": "ipython",
    "version": 3
   },
   "file_extension": ".py",
   "mimetype": "text/x-python",
   "name": "python",
   "nbconvert_exporter": "python",
   "pygments_lexer": "ipython3",
   "version": "3.5.6"
  }
 },
 "nbformat": 4,
 "nbformat_minor": 4
}
